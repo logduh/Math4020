{
 "cells": [
  {
   "cell_type": "code",
   "execution_count": null,
   "id": "01d9c111",
   "metadata": {},
   "outputs": [],
   "source": [
    "import numpy as np\n",
    "import scipy\n",
    "import os\n",
    "import glob\n",
    "import matplotlib.pyplot as plt\n",
    "from IPython.display import Image as disImage\n",
    "from PIL import Image\n",
    "import csv\n",
    "from keras.models import Sequential\n",
    "from keras.layers import Dense, Conv2D, Flatten"
   ]
  },
  {
   "cell_type": "code",
   "execution_count": null,
   "id": "ebf0771c",
   "metadata": {},
   "outputs": [],
   "source": [
    "#display images pulling from os\n",
    "directory = '/home/logan/Desktop/MATH/SampleMoviePosters/SampleMoviePosters'\n",
    "for dirname, _, filenames in os.walk(directory):\n",
    "    for file in filenames:\n",
    "        os.path.join(dirname, file)\n",
    "#disImage(filename = '/home/logan/Desktop/MATH/SampleMoviePosters/SampleMoviePosters/2461.jpg')"
   ]
  },
  {
   "cell_type": "code",
   "execution_count": null,
   "id": "fdefd882",
   "metadata": {},
   "outputs": [],
   "source": [
    "#create list of movie id's\n",
    "id_list = []\n",
    "for filename in glob.iglob(f'{directory}/*'):\n",
    "    f = filename.split('/')\n",
    "    id_list.append(f[-1][:-4])\n",
    "    #print(f[-1][:-4])"
   ]
  },
  {
   "cell_type": "code",
   "execution_count": null,
   "id": "205d3308",
   "metadata": {},
   "outputs": [],
   "source": [
    "#get posters as np arrays\n",
    "shape = (268,182,3)\n",
    "image_array = []\n",
    "for each in id_list:\n",
    "    img = Image.open('/home/logan/Desktop/MATH/SampleMoviePosters/SampleMoviePosters/'+each+'.jpg')\n",
    "    image_array.append(np.array(img))\n",
    "    #print (img)"
   ]
  },
  {
   "cell_type": "code",
   "execution_count": null,
   "id": "6bc0d823",
   "metadata": {},
   "outputs": [],
   "source": [
    "#create dictionaries\n",
    "id_genre_dict = {}\n",
    "title_dict = {}\n",
    "with open('/home/logan/Downloads/MovieGenre.csv', newline='',encoding = \"ISO-8859-1\") as csvfile:\n",
    "    reader = csv.reader(csvfile)\n",
    "    for row in reader:\n",
    "        movie_id = row[0]\n",
    "        gen = row[4]\n",
    "        title = row[2]\n",
    "        gen_split = gen.split('|')\n",
    "        id_genre_dict.update({movie_id:gen_split})\n",
    "        title_dict.update({movie_id:title})\n",
    "        #print(row)"
   ]
  },
  {
   "cell_type": "code",
   "execution_count": null,
   "id": "cc9a7a29",
   "metadata": {},
   "outputs": [],
   "source": [
    "genres = id_genre_dict.values()\n",
    "genres = [item for sublist in genres for item in sublist]\n",
    "genres = set(genres)\n",
    "genres = list(genres)\n",
    "genres.remove('')\n",
    "genres.remove('Genre')\n",
    "genres.sort()\n",
    "#print(genres)"
   ]
  },
  {
   "cell_type": "code",
   "execution_count": null,
   "id": "c6391d11",
   "metadata": {},
   "outputs": [],
   "source": [
    "arr_y = []\n",
    "for each in id_list:\n",
    "    y_each = np.zeros(len(genres))\n",
    "    gens = id_genre_dict[each]\n",
    "    for i in gens:\n",
    "        y_each[genres.index(i)] = 1\n",
    "    arr_y.append(y_each)\n",
    "#id_genre_dict[id_list[0]], arr_y[0]"
   ]
  },
  {
   "cell_type": "code",
   "execution_count": null,
   "id": "d981d10f",
   "metadata": {},
   "outputs": [],
   "source": [
    "img = np.asarray(image_array)\n",
    "np.save('X.npy',img)\n",
    "y = np.asarray(arr_y)\n",
    "np.save('Y',y)\n",
    "#print(img)\n",
    "#print(Y)"
   ]
  },
  {
   "cell_type": "code",
   "execution_count": null,
   "id": "1f4b650c",
   "metadata": {},
   "outputs": [],
   "source": [
    "model = Sequential()\n",
    "model.add(Conv2D(64, kernel_size = 3, activation = 'relu', input_shape = (268,182,3)))\n",
    "model.add(Conv2D(32, kernel_size = 3, activation = 'relu'))\n",
    "model.add(Flatten())\n",
    "model.add(Dense(28, activation = 'sigmoid'))\n",
    "model.compile(\n",
    "    optimizer = 'adam',\n",
    "    loss = 'binary_crossentropy',\n",
    "    metrics = ['binary_accuracy'])"
   ]
  },
  {
   "cell_type": "code",
   "execution_count": null,
   "id": "8e926326",
   "metadata": {},
   "outputs": [],
   "source": [
    "model.fit(img, y, epochs = 1, validation_split = 0.1, batch_size = 32)"
   ]
  },
  {
   "cell_type": "code",
   "execution_count": null,
   "id": "ae5f679a",
   "metadata": {},
   "outputs": [],
   "source": [
    "score = 0\n",
    "for img_no in range(len(image_array)):\n",
    "    test_y = image_array[img_no]\n",
    "    ty = np.reshape(test_y, (1,268,182,3))\n",
    "    pred_genre = model.predict(ty, verbose = 0)\n",
    "    best_pred_genre = genres[np.argmax(pred_genre)]\n",
    "    correct_genres = id_genre_dict[id_list[img_no]]\n",
    "    if best_pred_genre in correct_genres:\n",
    "        score +=1\n",
    "print('accuracy = ', (score/len(image_array))*100, '%')"
   ]
  },
  {
   "cell_type": "code",
   "execution_count": null,
   "id": "f1fd5f9b",
   "metadata": {},
   "outputs": [],
   "source": [
    "img_no = np.random.randint(low = 0, high = 997)\n",
    "print(title_dict[id_list[img_no]])\n",
    "test_y = image_array[img_no]\n",
    "test_y.shape\n",
    "ty = np.reshape(test_y, (1,268,182,3))\n",
    "pred_genre = model.predict(ty)\n",
    "print(\"Predicted: \\t\",genres[np.argmax(pred_genre)])\n",
    "print(\"Correct answers: \",*id_genre_dict[id_list[img_no]])\n",
    "Image.fromarray(test_y)"
   ]
  },
  {
   "cell_type": "code",
   "execution_count": null,
   "id": "aef45295",
   "metadata": {},
   "outputs": [],
   "source": []
  }
 ],
 "metadata": {
  "kernelspec": {
   "display_name": "venv",
   "language": "python",
   "name": "venv"
  },
  "language_info": {
   "codemirror_mode": {
    "name": "ipython",
    "version": 3
   },
   "file_extension": ".py",
   "mimetype": "text/x-python",
   "name": "python",
   "nbconvert_exporter": "python",
   "pygments_lexer": "ipython3",
   "version": "3.10.6"
  }
 },
 "nbformat": 4,
 "nbformat_minor": 5
}
