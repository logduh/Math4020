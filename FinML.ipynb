{
  "nbformat": 4,
  "nbformat_minor": 0,
  "metadata": {
    "colab": {
      "provenance": []
    },
    "kernelspec": {
      "name": "python3",
      "display_name": "Python 3"
    },
    "language_info": {
      "name": "python"
    }
  },
  "cells": [
    {
      "cell_type": "code",
      "execution_count": null,
      "metadata": {
        "colab": {
          "base_uri": "https://localhost:8080/"
        },
        "id": "3Ye70E4UHMpG",
        "outputId": "2032e489-010c-4292-fed7-87b183b1bb6b"
      },
      "outputs": [
        {
          "output_type": "stream",
          "name": "stdout",
          "text": [
            "Mounted at /content/drive/\n"
          ]
        }
      ],
      "source": [
        "from google.colab import drive\n",
        "drive.mount('/content/drive/')"
      ]
    },
    {
      "cell_type": "code",
      "source": [
        "import csv\n",
        "import cv2\n",
        "import urllib\n",
        "from urllib.request import urlopen\n",
        "import requests\n",
        "from io import BytesIO\n",
        "import time\n",
        "from PIL import Image\n",
        "\n",
        "count = 1\n",
        "id_genre_dict = {}\n",
        "title_dict = {}\n",
        "img_dict = {}\n",
        "id_list = []\n",
        "\n",
        "with open(\"/content/drive/My Drive/MovieGenre.csv\", newline='',encoding = \"ISO-8859-1\") as csvfile:\n",
        "  reader = list(csv.reader(csvfile))\n",
        "while (count <10):\n",
        "  row = reader[count]\n",
        "  #print(row,'\\n')\n",
        "  movie_id = row[0]\n",
        "  directory = str(row[5])\n",
        "  movie_id = row[0]\n",
        "  gen = row[4].split('|')\n",
        "  title = row[2]\n",
        "  try:\n",
        "    with urllib.request.urlopen(directory) as response:\n",
        "      html = response.read()\n",
        "    img_dict.update({movie_id:html})\n",
        "    id_genre_dict.update({movie_id:gen})\n",
        "    title_dict.update({movie_id:title})\n",
        "    id_list.append(movie_id)\n",
        "    count +=1\n",
        "  except:\n",
        "    count +=1\n",
        "    pass\n",
        "print(len(img_dict))\n",
        "print(len(title_dict))\n",
        "print(len(id_genre_dict))\n",
        "print(id_genre_dict.values())\n",
        "print(id_list)\n",
        "#print(img_dict.values())"
      ],
      "metadata": {
        "colab": {
          "base_uri": "https://localhost:8080/"
        },
        "id": "OH2X-_XPHZNe",
        "outputId": "253fc27c-9456-45bc-edeb-df9a8349e003"
      },
      "execution_count": null,
      "outputs": [
        {
          "output_type": "stream",
          "name": "stdout",
          "text": [
            "8\n",
            "8\n",
            "8\n",
            "dict_values([['Animation', 'Adventure', 'Comedy'], ['Action', 'Adventure', 'Family'], ['Comedy', 'Romance'], ['Comedy', 'Drama', 'Romance'], ['Comedy', 'Family', 'Romance'], ['Action', 'Crime', 'Drama'], ['Comedy', 'Drama'], ['Action', 'Crime', 'Thriller']])\n",
            "['114709', '113497', '113228', '114885', '113041', '113277', '114319', '114576']\n"
          ]
        }
      ]
    },
    {
      "cell_type": "code",
      "source": [
        "genres = id_genre_dict.values()\n",
        "genres = [item for sublist in genres for item in sublist]\n",
        "genres = set(genres)\n",
        "genres = list(genres)\n",
        "genres.sort()\n",
        "print(len(genres))\n",
        "print(\", \".join(genres))"
      ],
      "metadata": {
        "colab": {
          "base_uri": "https://localhost:8080/"
        },
        "id": "zbD9D9y6Rvm9",
        "outputId": "6cbe0326-78cd-4aac-d1c9-b0e82f1034b8"
      },
      "execution_count": null,
      "outputs": [
        {
          "output_type": "stream",
          "name": "stdout",
          "text": [
            "9\n",
            "Action, Adventure, Animation, Comedy, Crime, Drama, Family, Romance, Thriller\n"
          ]
        }
      ]
    },
    {
      "cell_type": "code",
      "source": [
        "import numpy as np\n",
        "from IPython.display import Image as disImage\n",
        "from PIL import Image\n",
        "from io import BytesIO\n",
        "import imghdr\n",
        "\n",
        "arr_y = []\n",
        "image_array = []\n",
        "for each in id_list:\n",
        "    y_each = np.zeros(len(genres))\n",
        "    gens = id_genre_dict[each]\n",
        "    for i in gens:\n",
        "        y_each[genres.index(i)] = 1\n",
        "    arr_y.append(y_each)\n",
        "\n",
        "import io\n",
        "for images in img_dict.values():\n",
        "  images = io.BytesIO(images)\n",
        "  image = Image.open(images)\n",
        "  image.show()\n",
        "  print(image)\n",
        "  #np.empty((268,182,3), dtype=Jpeg)\n",
        "  #img = Image.open(BytesIO(images.content))\n",
        "  image_array.append(image)\n",
        "print(image_array)\n",
        "img = np.array(list(image_array))\n",
        "np.save('X.npy',img)\n",
        "print(img)\n",
        "y = np.asarray(arr_y)\n",
        "np.save('Y',y)\n",
        "print(arr_y)"
      ],
      "metadata": {
        "colab": {
          "base_uri": "https://localhost:8080/"
        },
        "id": "PLgCNnoTSXDR",
        "outputId": "480130c2-63b6-46ad-825b-961667fffda7"
      },
      "execution_count": null,
      "outputs": [
        {
          "output_type": "stream",
          "name": "stdout",
          "text": [
            "<PIL.JpegImagePlugin.JpegImageFile image mode=RGB size=182x268 at 0x7F20C9222AC0>\n",
            "<PIL.JpegImagePlugin.JpegImageFile image mode=RGB size=182x268 at 0x7F20C9222160>\n",
            "<PIL.JpegImagePlugin.JpegImageFile image mode=RGB size=182x268 at 0x7F20C9222DF0>\n",
            "<PIL.JpegImagePlugin.JpegImageFile image mode=RGB size=182x268 at 0x7F20C9222B50>\n",
            "<PIL.JpegImagePlugin.JpegImageFile image mode=RGB size=182x268 at 0x7F20C9222B20>\n",
            "<PIL.JpegImagePlugin.JpegImageFile image mode=RGB size=182x268 at 0x7F20C6D5C070>\n",
            "<PIL.JpegImagePlugin.JpegImageFile image mode=RGB size=182x268 at 0x7F20C6D5C0D0>\n",
            "<PIL.JpegImagePlugin.JpegImageFile image mode=RGB size=182x268 at 0x7F20C6D5C130>\n",
            "[<PIL.JpegImagePlugin.JpegImageFile image mode=RGB size=182x268 at 0x7F20C9222AC0>, <PIL.JpegImagePlugin.JpegImageFile image mode=RGB size=182x268 at 0x7F20C9222160>, <PIL.JpegImagePlugin.JpegImageFile image mode=RGB size=182x268 at 0x7F20C9222DF0>, <PIL.JpegImagePlugin.JpegImageFile image mode=RGB size=182x268 at 0x7F20C9222B50>, <PIL.JpegImagePlugin.JpegImageFile image mode=RGB size=182x268 at 0x7F20C9222B20>, <PIL.JpegImagePlugin.JpegImageFile image mode=RGB size=182x268 at 0x7F20C6D5C070>, <PIL.JpegImagePlugin.JpegImageFile image mode=RGB size=182x268 at 0x7F20C6D5C0D0>, <PIL.JpegImagePlugin.JpegImageFile image mode=RGB size=182x268 at 0x7F20C6D5C130>]\n",
            "[<PIL.JpegImagePlugin.JpegImageFile image mode=RGB size=182x268 at 0x7F20C9222AC0>\n",
            " <PIL.JpegImagePlugin.JpegImageFile image mode=RGB size=182x268 at 0x7F20C9222160>\n",
            " <PIL.JpegImagePlugin.JpegImageFile image mode=RGB size=182x268 at 0x7F20C9222DF0>\n",
            " <PIL.JpegImagePlugin.JpegImageFile image mode=RGB size=182x268 at 0x7F20C9222B50>\n",
            " <PIL.JpegImagePlugin.JpegImageFile image mode=RGB size=182x268 at 0x7F20C9222B20>\n",
            " <PIL.JpegImagePlugin.JpegImageFile image mode=RGB size=182x268 at 0x7F20C6D5C070>\n",
            " <PIL.JpegImagePlugin.JpegImageFile image mode=RGB size=182x268 at 0x7F20C6D5C0D0>\n",
            " <PIL.JpegImagePlugin.JpegImageFile image mode=RGB size=182x268 at 0x7F20C6D5C130>]\n",
            "[array([0., 1., 1., 1., 0., 0., 0., 0., 0.]), array([1., 1., 0., 0., 0., 0., 1., 0., 0.]), array([0., 0., 0., 1., 0., 0., 0., 1., 0.]), array([0., 0., 0., 1., 0., 1., 0., 1., 0.]), array([0., 0., 0., 1., 0., 0., 1., 1., 0.]), array([1., 0., 0., 0., 1., 1., 0., 0., 0.]), array([0., 0., 0., 1., 0., 1., 0., 0., 0.]), array([1., 0., 0., 0., 1., 0., 0., 0., 1.])]\n"
          ]
        },
        {
          "output_type": "stream",
          "name": "stderr",
          "text": [
            "<ipython-input-52-4636fd74ffe2>:26: FutureWarning: The input object of type 'JpegImageFile' is an array-like implementing one of the corresponding protocols (`__array__`, `__array_interface__` or `__array_struct__`); but not a sequence (or 0-D). In the future, this object will be coerced as if it was first converted using `np.array(obj)`. To retain the old behaviour, you have to either modify the type 'JpegImageFile', or assign to an empty array created with `np.empty(correct_shape, dtype=object)`.\n",
            "  img = np.array(list(image_array))\n",
            "<ipython-input-52-4636fd74ffe2>:26: VisibleDeprecationWarning: Creating an ndarray from ragged nested sequences (which is a list-or-tuple of lists-or-tuples-or ndarrays with different lengths or shapes) is deprecated. If you meant to do this, you must specify 'dtype=object' when creating the ndarray.\n",
            "  img = np.array(list(image_array))\n"
          ]
        }
      ]
    },
    {
      "cell_type": "code",
      "source": [
        "from keras.models import Sequential\n",
        "model = Sequential()\n",
        "\n",
        "from keras.layers import Dense, Conv2D, Flatten\n",
        "model.add(Conv2D(64, kernel_size = 3, activation = 'relu', input_shape = (182,268,3)))\n",
        "model.add(Conv2D(32, kernel_size = 3, activation = 'relu'))\n",
        "model.add(Flatten())\n",
        "model.add(Dense(28, activation = 'sigmoid'))\n",
        "model.compile(\n",
        "    optimizer = 'adam',\n",
        "    loss = 'binary_crossentropy',\n",
        "    metrics = ['binary_accuracy'])"
      ],
      "metadata": {
        "id": "KIaRxJL2VsnT"
      },
      "execution_count": null,
      "outputs": []
    },
    {
      "cell_type": "code",
      "source": [],
      "metadata": {
        "id": "HvC_0uBSWRia"
      },
      "execution_count": null,
      "outputs": []
    },
    {
      "cell_type": "code",
      "source": [
        "history = model.fit(img, y, epochs = 10, validation_split = 0.1, batch_size = 32)"
      ],
      "metadata": {
        "colab": {
          "base_uri": "https://localhost:8080/",
          "height": 316
        },
        "id": "_zsxQCSpV5wQ",
        "outputId": "8b2dc30b-5837-46cc-f39f-664b08684281"
      },
      "execution_count": null,
      "outputs": [
        {
          "output_type": "error",
          "ename": "ValueError",
          "evalue": "ignored",
          "traceback": [
            "\u001b[0;31m---------------------------------------------------------------------------\u001b[0m",
            "\u001b[0;31mValueError\u001b[0m                                Traceback (most recent call last)",
            "\u001b[0;32m<ipython-input-31-c5dffe3505d5>\u001b[0m in \u001b[0;36m<module>\u001b[0;34m\u001b[0m\n\u001b[0;32m----> 1\u001b[0;31m \u001b[0mhistory\u001b[0m \u001b[0;34m=\u001b[0m \u001b[0mmodel\u001b[0m\u001b[0;34m.\u001b[0m\u001b[0mfit\u001b[0m\u001b[0;34m(\u001b[0m\u001b[0mimg\u001b[0m\u001b[0;34m,\u001b[0m \u001b[0my\u001b[0m\u001b[0;34m,\u001b[0m \u001b[0mepochs\u001b[0m \u001b[0;34m=\u001b[0m \u001b[0;36m10\u001b[0m\u001b[0;34m,\u001b[0m \u001b[0mvalidation_split\u001b[0m \u001b[0;34m=\u001b[0m \u001b[0;36m0.1\u001b[0m\u001b[0;34m,\u001b[0m \u001b[0mbatch_size\u001b[0m \u001b[0;34m=\u001b[0m \u001b[0;36m32\u001b[0m\u001b[0;34m)\u001b[0m\u001b[0;34m\u001b[0m\u001b[0;34m\u001b[0m\u001b[0m\n\u001b[0m",
            "\u001b[0;32m/usr/local/lib/python3.8/dist-packages/keras/utils/traceback_utils.py\u001b[0m in \u001b[0;36merror_handler\u001b[0;34m(*args, **kwargs)\u001b[0m\n\u001b[1;32m     65\u001b[0m     \u001b[0;32mexcept\u001b[0m \u001b[0mException\u001b[0m \u001b[0;32mas\u001b[0m \u001b[0me\u001b[0m\u001b[0;34m:\u001b[0m  \u001b[0;31m# pylint: disable=broad-except\u001b[0m\u001b[0;34m\u001b[0m\u001b[0;34m\u001b[0m\u001b[0m\n\u001b[1;32m     66\u001b[0m       \u001b[0mfiltered_tb\u001b[0m \u001b[0;34m=\u001b[0m \u001b[0m_process_traceback_frames\u001b[0m\u001b[0;34m(\u001b[0m\u001b[0me\u001b[0m\u001b[0;34m.\u001b[0m\u001b[0m__traceback__\u001b[0m\u001b[0;34m)\u001b[0m\u001b[0;34m\u001b[0m\u001b[0;34m\u001b[0m\u001b[0m\n\u001b[0;32m---> 67\u001b[0;31m       \u001b[0;32mraise\u001b[0m \u001b[0me\u001b[0m\u001b[0;34m.\u001b[0m\u001b[0mwith_traceback\u001b[0m\u001b[0;34m(\u001b[0m\u001b[0mfiltered_tb\u001b[0m\u001b[0;34m)\u001b[0m \u001b[0;32mfrom\u001b[0m \u001b[0;32mNone\u001b[0m\u001b[0;34m\u001b[0m\u001b[0;34m\u001b[0m\u001b[0m\n\u001b[0m\u001b[1;32m     68\u001b[0m     \u001b[0;32mfinally\u001b[0m\u001b[0;34m:\u001b[0m\u001b[0;34m\u001b[0m\u001b[0;34m\u001b[0m\u001b[0m\n\u001b[1;32m     69\u001b[0m       \u001b[0;32mdel\u001b[0m \u001b[0mfiltered_tb\u001b[0m\u001b[0;34m\u001b[0m\u001b[0;34m\u001b[0m\u001b[0m\n",
            "\u001b[0;32m/usr/local/lib/python3.8/dist-packages/tensorflow/python/framework/constant_op.py\u001b[0m in \u001b[0;36mconvert_to_eager_tensor\u001b[0;34m(value, ctx, dtype)\u001b[0m\n\u001b[1;32m    100\u001b[0m       \u001b[0mdtype\u001b[0m \u001b[0;34m=\u001b[0m \u001b[0mdtypes\u001b[0m\u001b[0;34m.\u001b[0m\u001b[0mas_dtype\u001b[0m\u001b[0;34m(\u001b[0m\u001b[0mdtype\u001b[0m\u001b[0;34m)\u001b[0m\u001b[0;34m.\u001b[0m\u001b[0mas_datatype_enum\u001b[0m\u001b[0;34m\u001b[0m\u001b[0;34m\u001b[0m\u001b[0m\n\u001b[1;32m    101\u001b[0m   \u001b[0mctx\u001b[0m\u001b[0;34m.\u001b[0m\u001b[0mensure_initialized\u001b[0m\u001b[0;34m(\u001b[0m\u001b[0;34m)\u001b[0m\u001b[0;34m\u001b[0m\u001b[0;34m\u001b[0m\u001b[0m\n\u001b[0;32m--> 102\u001b[0;31m   \u001b[0;32mreturn\u001b[0m \u001b[0mops\u001b[0m\u001b[0;34m.\u001b[0m\u001b[0mEagerTensor\u001b[0m\u001b[0;34m(\u001b[0m\u001b[0mvalue\u001b[0m\u001b[0;34m,\u001b[0m \u001b[0mctx\u001b[0m\u001b[0;34m.\u001b[0m\u001b[0mdevice_name\u001b[0m\u001b[0;34m,\u001b[0m \u001b[0mdtype\u001b[0m\u001b[0;34m)\u001b[0m\u001b[0;34m\u001b[0m\u001b[0;34m\u001b[0m\u001b[0m\n\u001b[0m\u001b[1;32m    103\u001b[0m \u001b[0;34m\u001b[0m\u001b[0m\n\u001b[1;32m    104\u001b[0m \u001b[0;34m\u001b[0m\u001b[0m\n",
            "\u001b[0;31mValueError\u001b[0m: Failed to convert a NumPy array to a Tensor (Unsupported object type JpegImageFile)."
          ]
        }
      ]
    }
  ]
}