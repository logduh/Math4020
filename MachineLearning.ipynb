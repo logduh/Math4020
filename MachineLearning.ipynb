{
 "cells": [
  {
   "cell_type": "code",
   "execution_count": 1,
   "id": "01d9c111",
   "metadata": {},
   "outputs": [],
   "source": [
    "import numpy\n",
    "import scipy\n",
    "from tensorflow.keras import models, layers, utils, Backend as K\n",
    "import matplotlib.pyplot as plt\n",
    "import shap\n",
    "import tensorflow as tf\n",
    "import os\n",
    "\n",
    "def get_images(foldername):\n",
    "    images = []\n",
    "    for filename in os.listdir(foldername):\n",
    "        img = cv2.imread(os.path.join(foldername,filename))\n",
    "        if img is not None:\n",
    "            images.append(img)\n",
    "            re"
   ]
  },
  {
   "cell_type": "code",
   "execution_count": null,
   "id": "ebf0771c",
   "metadata": {},
   "outputs": [],
   "source": []
  }
 ],
 "metadata": {
  "kernelspec": {
   "display_name": "venv",
   "language": "python",
   "name": "venv"
  },
  "language_info": {
   "codemirror_mode": {
    "name": "ipython",
    "version": 3
   },
   "file_extension": ".py",
   "mimetype": "text/x-python",
   "name": "python",
   "nbconvert_exporter": "python",
   "pygments_lexer": "ipython3",
   "version": "3.10.6"
  }
 },
 "nbformat": 4,
 "nbformat_minor": 5
}
